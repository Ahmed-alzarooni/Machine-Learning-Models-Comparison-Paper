{
 "cells": [
  {
   "cell_type": "markdown",
   "metadata": {},
   "source": [
    "# Importing Libraries"
   ]
  },
  {
   "cell_type": "code",
   "execution_count": 15,
   "metadata": {},
   "outputs": [],
   "source": [
    "import plotly.offline as pox\n",
    "import plotly.graph_objs as go\n",
    "import numpy as np\n",
    "import talib as tl\n",
    "import matplotlib.pyplot as plt\n",
    "import pandas as pd\n",
    "import numpy as np\n",
    "import talib as ta\n",
    "from sklearn.model_selection import train_test_split\n",
    "from sklearn.metrics import accuracy_score,classification_report\n",
    "import alpaca_trade_api as tradeapi\n",
    "from alpaca_trade_api import TimeFrame, TimeFrameUnit\n",
    "from sklearn.ensemble import RandomForestClassifier\n",
    "from sklearn.preprocessing import StandardScaler\n",
    "import seaborn as sns\n",
    "from matplotlib.pyplot import figure\n",
    "from statsmodels.tsa.stattools import adfuller\n",
    "from sklearn.svm import SVC\n",
    "from sklearn.neighbors import KNeighborsClassifier\n",
    "from sklearn.linear_model import LogisticRegression\n",
    "from sklearn.ensemble import AdaBoostClassifier"
   ]
  },
  {
   "cell_type": "markdown",
   "metadata": {},
   "source": [
    "# Importing Stock Data"
   ]
  },
  {
   "cell_type": "code",
   "execution_count": 16,
   "metadata": {},
   "outputs": [
    {
     "data": {
      "text/html": [
       "<div>\n",
       "<style scoped>\n",
       "    .dataframe tbody tr th:only-of-type {\n",
       "        vertical-align: middle;\n",
       "    }\n",
       "\n",
       "    .dataframe tbody tr th {\n",
       "        vertical-align: top;\n",
       "    }\n",
       "\n",
       "    .dataframe thead th {\n",
       "        text-align: right;\n",
       "    }\n",
       "</style>\n",
       "<table border=\"1\" class=\"dataframe\">\n",
       "  <thead>\n",
       "    <tr style=\"text-align: right;\">\n",
       "      <th></th>\n",
       "      <th>open</th>\n",
       "      <th>high</th>\n",
       "      <th>low</th>\n",
       "      <th>close</th>\n",
       "      <th>volume</th>\n",
       "    </tr>\n",
       "    <tr>\n",
       "      <th>time</th>\n",
       "      <th></th>\n",
       "      <th></th>\n",
       "      <th></th>\n",
       "      <th></th>\n",
       "      <th></th>\n",
       "    </tr>\n",
       "  </thead>\n",
       "  <tbody>\n",
       "    <tr>\n",
       "      <th>2022-02-18 14:45:00-05:00</th>\n",
       "      <td>855.76</td>\n",
       "      <td>858.63</td>\n",
       "      <td>852.27</td>\n",
       "      <td>858.20</td>\n",
       "      <td>15497</td>\n",
       "    </tr>\n",
       "    <tr>\n",
       "      <th>2022-02-18 15:00:00-05:00</th>\n",
       "      <td>859.09</td>\n",
       "      <td>862.26</td>\n",
       "      <td>856.54</td>\n",
       "      <td>858.13</td>\n",
       "      <td>13975</td>\n",
       "    </tr>\n",
       "    <tr>\n",
       "      <th>2022-02-18 15:15:00-05:00</th>\n",
       "      <td>857.79</td>\n",
       "      <td>859.13</td>\n",
       "      <td>854.83</td>\n",
       "      <td>856.52</td>\n",
       "      <td>28240</td>\n",
       "    </tr>\n",
       "    <tr>\n",
       "      <th>2022-02-18 15:30:00-05:00</th>\n",
       "      <td>855.18</td>\n",
       "      <td>857.90</td>\n",
       "      <td>850.72</td>\n",
       "      <td>856.27</td>\n",
       "      <td>19926</td>\n",
       "    </tr>\n",
       "    <tr>\n",
       "      <th>2022-02-18 15:45:00-05:00</th>\n",
       "      <td>857.72</td>\n",
       "      <td>857.99</td>\n",
       "      <td>853.06</td>\n",
       "      <td>856.97</td>\n",
       "      <td>46035</td>\n",
       "    </tr>\n",
       "  </tbody>\n",
       "</table>\n",
       "</div>"
      ],
      "text/plain": [
       "                             open    high     low   close  volume\n",
       "time                                                             \n",
       "2022-02-18 14:45:00-05:00  855.76  858.63  852.27  858.20   15497\n",
       "2022-02-18 15:00:00-05:00  859.09  862.26  856.54  858.13   13975\n",
       "2022-02-18 15:15:00-05:00  857.79  859.13  854.83  856.52   28240\n",
       "2022-02-18 15:30:00-05:00  855.18  857.90  850.72  856.27   19926\n",
       "2022-02-18 15:45:00-05:00  857.72  857.99  853.06  856.97   46035"
      ]
     },
     "execution_count": 16,
     "metadata": {},
     "output_type": "execute_result"
    }
   ],
   "source": [
    "# df=pd.read_csv('FB.csv')\n",
    "# d = df[ df['Volume'] == 0 ]\n",
    "# df = df.drop(d.index,axis=0)\n",
    "# df=df.set_index(pd.DatetimeIndex(df['Gmt time'].values))\n",
    "# df['Gmt time']=pd.to_datetime(df['Gmt time'])\n",
    "# df=df.sort_values(\"Gmt time\",ascending=True)\n",
    "# df.drop('Gmt time', inplace=True, axis=1)\n",
    "SEC_KEY = '7mi6lnaTynfrzxfDYyYUarBpUJ35sSgVEVIj6RZG'\n",
    "PUB_KEY ='PKDL8E9SBYH9GYYXXZNL'\n",
    "BASE_URL ='https://paper-api.alpaca.markets'\n",
    "symb = \"TSLA\"\n",
    "api = tradeapi.REST(key_id= PUB_KEY, secret_key=SEC_KEY, base_url=BASE_URL) # For real trading, don't enter a base_url\n",
    "df = api.get_barset(symb, TimeFrame(15, TimeFrameUnit.Minute), limit=1000).df  # Get one bar object for each of the past 5 minutes\n",
    "df=df[symb]\n",
    "# df.drop(df.tail(16).index,inplace=True)\n",
    "next=df.copy()\n",
    "next.tail()"
   ]
  },
  {
   "cell_type": "code",
   "execution_count": 17,
   "metadata": {},
   "outputs": [],
   "source": [
    "# df['close']=df['Close']\n",
    "# df['high']=df['High']\n",
    "# df['low']=df['Low']\n",
    "# df['open']=df['Open']\n",
    "# df['volume']=df['Volume']"
   ]
  },
  {
   "cell_type": "markdown",
   "metadata": {},
   "source": [
    "# Feature Engineering"
   ]
  },
  {
   "cell_type": "code",
   "execution_count": 18,
   "metadata": {},
   "outputs": [],
   "source": [
    "df['future_returns'] = df['close'].pct_change().shift(-1)\n",
    "signal=[]\n",
    "for i in range(len(df)):\n",
    "            if (df['future_returns'][i]  > 0):\n",
    "                signal.append(1)\n",
    "            elif (df['future_returns'][i] < 0):\n",
    "                signal.append(2)\n",
    "            else:\n",
    "                signal.append(3)\n",
    "\n",
    "df['signal']=signal\n",
    "df['rsi'] = ta.RSI(df['close'].values, timeperiod=int(14))\n",
    "df['adx'] = ta.ADX(df['high'].values, df['low'].values,df['open'].values, timeperiod=int(50))\n",
    "df['NATR'] = ta.NATR(df['high'], df['low'], df[\"close\"], timeperiod=50)\n",
    "df['pct_change5'] = df['close'].pct_change(5)\n",
    "df['pct_change'] = df['close'].pct_change()\n",
    "df['sma'] = ta.SMA(df['close'],timeperiod=30)\n",
    "df['corr'] = df['close'].rolling(window=int(6.5*4)).corr(df['sma'])\n",
    "df['Open-Close']=(df[\"open\"]-df['close']).shift(-1)\n",
    "df['Close-High']=(df[\"close\"]-df['high']).shift(-1)\n",
    "df['Close-Low']=(df[\"close\"]-df['low']).shift(-1)\n",
    "\n",
    "df.dropna(inplace=True)\n",
    "y = df[['signal']].copy()\n",
    "X = df[[ 'rsi','adx', 'corr','volume','Open-Close','Close-Low']].copy()"
   ]
  },
  {
   "cell_type": "markdown",
   "metadata": {},
   "source": [
    "# Correlation Check"
   ]
  },
  {
   "cell_type": "code",
   "execution_count": 19,
   "metadata": {},
   "outputs": [
    {
     "data": {
      "image/png": "[encoded data removed]",
      "text/plain": [
       "<Figure size 640x480 with 2 Axes>"
      ]
     },
     "metadata": {
      "needs_background": "light"
     },
     "output_type": "display_data"
    }
   ],
   "source": [
    "z=df[['signal', 'rsi','adx', 'corr','volume','Open-Close','Close-Low']].copy()\n",
    "corr = z.corr()\n",
    "figure(figsize=(8, 6), dpi=80)\n",
    "sns.heatmap(corr, annot=True, annot_kws = {\"size\": 6})\n",
    "plt.yticks(rotation=0, size = 14); \n",
    "plt.xticks(rotation=90, size = 14)  # fix ticklabel directions and size\n",
    "plt.tight_layout()  # fits plot area to the plot, \"tightly\"\n",
    "plt.show()  # show the plot"
   ]
  },
  {
   "cell_type": "code",
   "execution_count": 20,
   "metadata": {},
   "outputs": [
    {
     "name": "stdout",
     "output_type": "stream",
     "text": [
      "MultiIndex([], )\n"
     ]
    }
   ],
   "source": [
    "def get_pair_above_threshold(X, threshold):\n",
    "    \"\"\"Function to return the pairs with correlation above threshold.\n",
    "    \"\"\"\n",
    "    # Calculate the correlation matrix\n",
    "    correl = X.corr()\n",
    "\n",
    "    # Unstack the matrix\n",
    "    correl = correl.abs().unstack()\n",
    "\n",
    "    # Recurring & redundant pair\n",
    "    pairs_to_drop = set()\n",
    "    cols = X.corr().columns\n",
    "   \n",
    "    for i in range(0, X.corr().shape[1]):\n",
    "        for j in range(0, i+1):\n",
    "            pairs_to_drop.add((cols[i], cols[j]))\n",
    "\n",
    "    # Drop the recurring & redundant pair\n",
    "    correl = correl.drop(labels=pairs_to_drop).sort_values(ascending=False)\n",
    "\n",
    "    return correl[correl > threshold].index\n",
    "\n",
    "\n",
    "print(get_pair_above_threshold(X, 0.7))\n"
   ]
  },
  {
   "cell_type": "markdown",
   "metadata": {},
   "source": [
    "# Stationary Check"
   ]
  },
  {
   "cell_type": "code",
   "execution_count": 21,
   "metadata": {},
   "outputs": [
    {
     "name": "stdout",
     "output_type": "stream",
     "text": [
      "rsi is stationary.\n",
      "adx is stationary.\n",
      "corr is stationary.\n",
      "volume is stationary.\n",
      "Open-Close is stationary.\n",
      "Close-Low is stationary.\n"
     ]
    }
   ],
   "source": [
    "def stationary(series):\n",
    "    \"\"\"Function to check if the series is stationary or not.\n",
    "    \"\"\"\n",
    "    result = adfuller(series)\n",
    "    if(result[1] < 0.05):\n",
    "        return 'stationary'\n",
    "    else:\n",
    "        return 'not stationary'\n",
    "# Check for stationarity\n",
    "for col in X.columns:\n",
    "    if stationary(df[col]) == 'not stationary':\n",
    "        print('%s is not stationary. Dropping it.' % col)\n",
    "        X.drop(columns=[col], axis=1, inplace=True)\n",
    "    else:\n",
    "        print('%s is stationary.' % col)\n",
    "        \n"
   ]
  },
  {
   "cell_type": "markdown",
   "metadata": {},
   "source": [
    "# Splitting and Training Model"
   ]
  },
  {
   "cell_type": "code",
   "execution_count": 22,
   "metadata": {},
   "outputs": [
    {
     "name": "stdout",
     "output_type": "stream",
     "text": [
      "0.8944444444444445\n"
     ]
    }
   ],
   "source": [
    "split_percentage = 0.8\n",
    "split = int(split_percentage*len(df))\n",
    "\n",
    "\n",
    "# Train data set\n",
    "X_train = X[:split]\n",
    "y_train = y[:split]\n",
    "X_test =  X[split:]\n",
    "y_test =  y[split:]\n",
    "        \n",
    "scaler=StandardScaler()\n",
    "X_train=scaler.fit_transform(X_train)\n",
    "X_test=scaler.fit_transform(X_test)\n",
    "# model=SVC()\n",
    "# model1 = KNeighborsClassifier(n_neighbors=50)\n",
    "# model2 = LogisticRegression()\n",
    "# model3=DecisionTreeClassifier()\n",
    "# model=SVC()\n",
    "# model=VotingClassifier([('knn',model1),('lr',model2),('ds',model3),('svm',model4)])\n",
    "# model=AdaBoostClassifier(base_estimator=model3)\n",
    "model = RandomForestClassifier(n_estimators=100,random_state=30)\n",
    "model.fit(X_train, y_train['signal'])\n",
    "y_pred = model.predict(X_test)\n",
    "Accuracy =accuracy_score(y_test, y_pred)\n",
    "print(Accuracy)"
   ]
  },
  {
   "cell_type": "markdown",
   "metadata": {},
   "source": [
    "# confusion Matrix"
   ]
  },
  {
   "cell_type": "code",
   "execution_count": 23,
   "metadata": {},
   "outputs": [
    {
     "name": "stdout",
     "output_type": "stream",
     "text": [
      "              precision    recall  f1-score   support\n",
      "\n",
      "           1       0.84      0.95      0.89        80\n",
      "           2       0.96      0.85      0.90       100\n",
      "\n",
      "    accuracy                           0.89       180\n",
      "   macro avg       0.90      0.90      0.89       180\n",
      "weighted avg       0.90      0.89      0.89       180\n",
      "\n"
     ]
    }
   ],
   "source": [
    "# Classification report\n",
    "classification_report_data = classification_report(y_test, y_pred)\n",
    "# Print the classification report\n",
    "print(classification_report_data)"
   ]
  },
  {
   "cell_type": "markdown",
   "metadata": {},
   "source": [
    "# Making Latest Prediciton"
   ]
  },
  {
   "cell_type": "code",
   "execution_count": 24,
   "metadata": {},
   "outputs": [
    {
     "name": "stderr",
     "output_type": "stream",
     "text": [
      "C:\\Users\\Azaz\\AppData\\Roaming\\Python\\Python39\\site-packages\\sklearn\\base.py:438: UserWarning:\n",
      "\n",
      "X has feature names, but RandomForestClassifier was fitted without feature names\n",
      "\n"
     ]
    },
    {
     "name": "stdout",
     "output_type": "stream",
     "text": [
      "Sell\n",
      "2\n"
     ]
    }
   ],
   "source": [
    "Prediction=model.predict(X)[-1]\n",
    "if Prediction==1:\n",
    "    print('Buy')\n",
    "elif Prediction==2:\n",
    "    print('Sell')\n",
    "else:\n",
    "    print('Hold')\n",
    "print(Prediction)"
   ]
  },
  {
   "cell_type": "code",
   "execution_count": 25,
   "metadata": {},
   "outputs": [
    {
     "data": {
      "text/html": [
       "<div>\n",
       "<style scoped>\n",
       "    .dataframe tbody tr th:only-of-type {\n",
       "        vertical-align: middle;\n",
       "    }\n",
       "\n",
       "    .dataframe tbody tr th {\n",
       "        vertical-align: top;\n",
       "    }\n",
       "\n",
       "    .dataframe thead th {\n",
       "        text-align: right;\n",
       "    }\n",
       "</style>\n",
       "<table border=\"1\" class=\"dataframe\">\n",
       "  <thead>\n",
       "    <tr style=\"text-align: right;\">\n",
       "      <th></th>\n",
       "      <th>close</th>\n",
       "      <th>signal</th>\n",
       "    </tr>\n",
       "    <tr>\n",
       "      <th>time</th>\n",
       "      <th></th>\n",
       "      <th></th>\n",
       "    </tr>\n",
       "  </thead>\n",
       "  <tbody>\n",
       "    <tr>\n",
       "      <th>2022-02-18 14:30:00-05:00</th>\n",
       "      <td>855.77</td>\n",
       "      <td>1</td>\n",
       "    </tr>\n",
       "    <tr>\n",
       "      <th>2022-02-18 14:45:00-05:00</th>\n",
       "      <td>858.20</td>\n",
       "      <td>2</td>\n",
       "    </tr>\n",
       "    <tr>\n",
       "      <th>2022-02-18 15:00:00-05:00</th>\n",
       "      <td>858.13</td>\n",
       "      <td>2</td>\n",
       "    </tr>\n",
       "    <tr>\n",
       "      <th>2022-02-18 15:15:00-05:00</th>\n",
       "      <td>856.52</td>\n",
       "      <td>1</td>\n",
       "    </tr>\n",
       "    <tr>\n",
       "      <th>2022-02-18 15:30:00-05:00</th>\n",
       "      <td>856.27</td>\n",
       "      <td>2</td>\n",
       "    </tr>\n",
       "  </tbody>\n",
       "</table>\n",
       "</div>"
      ],
      "text/plain": [
       "                            close  signal\n",
       "time                                     \n",
       "2022-02-18 14:30:00-05:00  855.77       1\n",
       "2022-02-18 14:45:00-05:00  858.20       2\n",
       "2022-02-18 15:00:00-05:00  858.13       2\n",
       "2022-02-18 15:15:00-05:00  856.52       1\n",
       "2022-02-18 15:30:00-05:00  856.27       2"
      ]
     },
     "execution_count": 25,
     "metadata": {},
     "output_type": "execute_result"
    }
   ],
   "source": [
    "split_percentage = 0.8\n",
    "split = int(split_percentage*len(df))\n",
    "temp=pd.DataFrame()\n",
    "temp['close'] = df.close.iloc[split:]\n",
    "temp['signal']=np.array(y_pred)\n",
    "temp.tail()"
   ]
  },
  {
   "cell_type": "code",
   "execution_count": 26,
   "metadata": {},
   "outputs": [],
   "source": [
    "# Variable Required for decision making\n",
    "buy=[]\n",
    "sell=[]\n",
    "profit=[]\n",
    "Close_profit=[]\n",
    "Stop_loss=[]\n",
    "Close_order_buy=[]\n",
    "Close_order_sell=[]\n",
    "position_Buy=None\n",
    "position_Sell=None\n",
    "profit=0.4\n",
    "lose=0.4"
   ]
  },
  {
   "cell_type": "markdown",
   "metadata": {},
   "source": [
    "# Decision Making Process"
   ]
  },
  {
   "cell_type": "code",
   "execution_count": 27,
   "metadata": {},
   "outputs": [
    {
     "name": "stdout",
     "output_type": "stream",
     "text": [
      "close           180\n",
      "signal          180\n",
      "buy              41\n",
      "sell             43\n",
      "Close_profit     72\n",
      "Stop_loss        11\n",
      "dtype: int64\n",
      "Profitibily 0.8674698795180723\n"
     ]
    }
   ],
   "source": [
    "for i in range(len(temp)):\n",
    "   #####################################################################################################\n",
    "    if position_Buy!=\"Buy\"  and position_Sell!=\"Sell\" and Accuracy >0.50 and temp['signal'][i]== 1 :                          #Buy Position\n",
    "                    buy.append(temp['close'][i])\n",
    "                    sell.append(np.nan)\n",
    "                    Close_profit.append(np.nan)\n",
    "                    Stop_loss.append(np.nan)\n",
    "                    Close_order_buy.append(temp['close'][i])\n",
    "                    position_Buy=\"Buy\"\n",
    "    #############################################################################################\n",
    "    elif  position_Sell!=\"Sell\"  and position_Buy!=\"Buy\" and Accuracy >0.50 and temp['signal'][i]== 2   :                     #Sell Position        \n",
    "                sell.append(temp['close'][i])              \n",
    "                buy.append(np.nan)\n",
    "                Close_profit.append(np.nan)\n",
    "                Stop_loss.append(np.nan)\n",
    "                Close_order_sell.append(temp['close'][i])\n",
    "                position_Sell=\"Sell\"\n",
    "        \n",
    "    #################################################################################################\n",
    "    elif position_Sell==\"Sell\" :                                               #Closing Order  After  Buying a trade(Profit)\n",
    "        if ((Close_order_sell[-1]+lose) <= temp['close'][i]):                   #Take Profit Condition\n",
    "            Close_profit.append(np.nan)                                        #append to take profit\n",
    "            Stop_loss.append(temp['close'][i])\n",
    "            buy.append(np.nan)\n",
    "            sell.append(np.nan)\n",
    "            position_Sell=None\n",
    "        elif ((Close_order_sell[-1]-(profit)) >= temp['close'][i]):                   #Stop Loss Condition\n",
    "            Close_profit.append(temp['close'][i])\n",
    "            Stop_loss.append(np.nan)                                                #Appending to stop loss\n",
    "            buy.append(np.nan)\n",
    "            sell.append(np.nan)\n",
    "            position_Sell=None\n",
    "        else:\n",
    "            Close_profit.append(np.nan)\n",
    "            Stop_loss.append(np.nan)\n",
    "            buy.append(np.nan)\n",
    "            sell.append(np.nan)\n",
    "    ########################################################################################################\n",
    "    elif position_Buy==\"Buy\" :                                               #Closing Order  After  Buying a trade(Profit)\n",
    "        if ((Close_order_buy[-1]+profit) <= temp['close'][i]):                  #Take Profit Condition\n",
    "            Close_profit.append(temp['close'][i])                          #append to take profit\n",
    "            Stop_loss.append(np.nan)\n",
    "            buy.append(np.nan)\n",
    "            sell.append(np.nan)\n",
    "            position_Buy=None\n",
    "           \n",
    "        elif ((Close_order_buy[-1]-lose) >= temp['close'][i]):                   #Stop Loss Condition\n",
    "            Close_profit.append(np.nan)\n",
    "            Stop_loss.append(temp['close'][i])                                  #Appending to stop loss\n",
    "            buy.append(np.nan)\n",
    "            sell.append(np.nan)\n",
    "            position_Buy=None\n",
    "     \n",
    "        else:\n",
    "            Close_profit.append(np.nan)\n",
    "            Stop_loss.append(np.nan)\n",
    "            buy.append(np.nan)\n",
    "            sell.append(np.nan)\n",
    "#################################################################\n",
    "    else:\n",
    "            buy.append(np.nan)\n",
    "            sell.append(np.nan)\n",
    "            Stop_loss.append(np.nan)\n",
    "            Close_profit.append(np.nan)\n",
    "temp['buy']=buy\n",
    "temp['sell']=sell\n",
    "temp['Close_profit']=Close_profit\n",
    "temp['Stop_loss']=Stop_loss\n",
    "print((temp[temp['buy']!=np.nan]).count())\n",
    "print(f\"Profitibily { temp['Close_profit'].count()/(temp['Close_profit'].count()+temp['Stop_loss'].count())}\")"
   ]
  },
  {
   "cell_type": "markdown",
   "metadata": {},
   "source": [
    "# Plotting"
   ]
  },
  {
   "cell_type": "code",
   "execution_count": 14,
   "metadata": {},
   "outputs": [
    {
     "data": {
      "text/plain": [
       "'temp-plot.html'"
      ]
     },
     "execution_count": 14,
     "metadata": {},
     "output_type": "execute_result"
    }
   ],
   "source": [
    "# trace1=go.Candlestick(\n",
    "# x=df.index,\n",
    "# low=df['low'],\n",
    "# close=df['close'],\n",
    "# open=df['open'],\n",
    "# high=df['high'],\n",
    "# increasing_line_color='green',\n",
    "# decreasing_line_color='red',\n",
    "# name='USD/EUR',\n",
    "# )\n",
    "trace1=go.Scatter(\n",
    "    y=temp.close,\n",
    "    mode='lines',\n",
    "    name='Close_price'\n",
    ")\n",
    "\n",
    "trace4=go.Scatter(\n",
    "   \n",
    "    y=temp['buy'],\n",
    "    mode='markers',\n",
    "    marker=dict(size=13,color='#00FF00',symbol='triangle-up' ),\n",
    "    name='buy'\n",
    "    )\n",
    "trace5=go.Scatter(\n",
    "    \n",
    "    y=temp.sell,\n",
    "    mode='markers',\n",
    "    marker=dict(size=13,color='#FF0000',symbol='triangle-down'),\n",
    "    name='sell')\n",
    "trace6=go.Scatter(\n",
    "    \n",
    "    y=temp.Close_profit,\n",
    "    mode='markers',\n",
    "    marker=dict(size=13,color='#00FF00',symbol='cross'),\n",
    "    name='Profit')\n",
    "trace7=go.Scatter(\n",
    "    \n",
    "    y=temp.Stop_loss,\n",
    "    mode='markers',\n",
    "    marker=dict(size=13,color='#FF0000',symbol='cross'),\n",
    "    name='Loss')\n",
    "\n",
    "data=[trace1,trace4,trace5,trace6,trace7]\n",
    "layout=go.Layout(\n",
    "    title=symb,\n",
    "    yaxis=dict(title='Assest value'),\n",
    "    xaxis=dict(title='Time And date'))\n",
    "figure=go.Figure(data=data,layout=layout)\n",
    "figure.update_layout(xaxis_rangeslider_visible=False)\n",
    "pox.plot(figure)"
   ]
  }
 ],
 "metadata": {
  "interpreter": {
   "hash": "ac59ebe37160ed0dfa835113d9b8498d9f09ceb179beaac4002f036b9467c963"
  },
  "kernelspec": {
   "display_name": "Python 3.9.1 64-bit",
   "language": "python",
   "name": "python3"
  },
  "language_info": {
   "codemirror_mode": {
    "name": "ipython",
    "version": 3
   },
   "file_extension": ".py",
   "mimetype": "text/x-python",
   "name": "python",
   "nbconvert_exporter": "python",
   "pygments_lexer": "ipython3",
   "version": "3.9.1"
  },
  "orig_nbformat": 4
 },
 "nbformat": 4,
 "nbformat_minor": 2
}
